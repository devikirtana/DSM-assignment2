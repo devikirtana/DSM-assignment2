{
 "cells": [
  {
   "cell_type": "markdown",
   "id": "bb4e2609-7834-4916-be31-9bcc2e1ec739",
   "metadata": {},
   "source": [
    "# Qn 1"
   ]
  },
  {
   "cell_type": "markdown",
   "id": "8261bc93-c1e4-48c7-a930-b96a0e400116",
   "metadata": {},
   "source": [
    "### The keyword that is used to create a function is def."
   ]
  },
  {
   "cell_type": "code",
   "execution_count": 1,
   "id": "ae76b398-f8e6-4718-a3be-4dbdffdcaf70",
   "metadata": {},
   "outputs": [],
   "source": [
    "def test(a):\n",
    "    l=[]\n",
    "    for i in range(0,a):\n",
    "        if i%2 ==1:\n",
    "            l.append(i)\n",
    "            \n",
    "    return l        \n",
    "         \n",
    "    "
   ]
  },
  {
   "cell_type": "code",
   "execution_count": 2,
   "id": "2f0b87aa-210f-4272-916c-e6a9909a1614",
   "metadata": {},
   "outputs": [
    {
     "data": {
      "text/plain": [
       "[1, 3, 5, 7, 9, 11, 13, 15, 17, 19, 21, 23]"
      ]
     },
     "execution_count": 2,
     "metadata": {},
     "output_type": "execute_result"
    }
   ],
   "source": [
    "test(25)"
   ]
  },
  {
   "cell_type": "markdown",
   "id": "063dc777-a6b1-4686-a9db-b2b8d40cb1d0",
   "metadata": {},
   "source": [
    "# Qn 2"
   ]
  },
  {
   "cell_type": "markdown",
   "id": "5d924548-22a9-4503-ac82-b0a4721b759f",
   "metadata": {},
   "source": [
    "### *args are used to store any number of arguments in a function\n",
    "### **kwargs is used to store keys and values of dictionary"
   ]
  },
  {
   "cell_type": "code",
   "execution_count": 3,
   "id": "b7e90739-f933-49d1-89f3-8ea8803a96b9",
   "metadata": {},
   "outputs": [],
   "source": [
    "def test1(*args):\n",
    "    return args"
   ]
  },
  {
   "cell_type": "code",
   "execution_count": 4,
   "id": "ee528021-4202-4e45-8bf8-aaa908bc1ec2",
   "metadata": {},
   "outputs": [
    {
     "data": {
      "text/plain": [
       "('surya', 'vivek', 1, 2, 3, 4, 5, [23, 45])"
      ]
     },
     "execution_count": 4,
     "metadata": {},
     "output_type": "execute_result"
    }
   ],
   "source": [
    "test1(\"surya\",\"vivek\",1,2,3,4,5,[23,45])"
   ]
  },
  {
   "cell_type": "code",
   "execution_count": 5,
   "id": "6ff013fa-374a-4059-b7c6-477a93a78430",
   "metadata": {},
   "outputs": [],
   "source": [
    "def test2(**kwargs):\n",
    "    return kwargs"
   ]
  },
  {
   "cell_type": "code",
   "execution_count": 6,
   "id": "3b6ab63d-3aa5-4793-808e-3e47a508480c",
   "metadata": {},
   "outputs": [
    {
     "data": {
      "text/plain": [
       "{'a': 2, 'b': 34, 'c': 'sweet', 'd': 'wow'}"
      ]
     },
     "execution_count": 6,
     "metadata": {},
     "output_type": "execute_result"
    }
   ],
   "source": [
    "test2(a=2,b=34,c=\"sweet\",d=\"wow\")"
   ]
  },
  {
   "cell_type": "markdown",
   "id": "4aa24b22-fedf-4a3f-b274-57fe6de0afd2",
   "metadata": {},
   "source": [
    "# Qn 3"
   ]
  },
  {
   "cell_type": "markdown",
   "id": "2f7a0313-0764-4db9-b023-1ce9100dd59d",
   "metadata": {},
   "source": [
    "### An iterator is an object that contains countable number of values"
   ]
  },
  {
   "cell_type": "code",
   "execution_count": 61,
   "id": "c8b4ae97-93a0-42d1-b63a-fd1ad8ca12f6",
   "metadata": {},
   "outputs": [],
   "source": [
    "### The method used for initialise the  iterator is iter() and next() is used for iteration"
   ]
  },
  {
   "cell_type": "code",
   "execution_count": 1,
   "id": "e3d3b635-c920-4bea-b632-55dc6fb7d2be",
   "metadata": {},
   "outputs": [
    {
     "name": "stdout",
     "output_type": "stream",
     "text": [
      "2\n",
      "4\n",
      "6\n",
      "8\n",
      "10\n"
     ]
    }
   ],
   "source": [
    "l=[2,4,6,8,10,12,14,16,18]\n",
    "a=iter(l)\n",
    "print(next(a))\n",
    "print(next(a))\n",
    "print(next(a))\n",
    "print(next(a))\n",
    "print(next(a))\n",
    "\n",
    "    \n",
    "    "
   ]
  },
  {
   "cell_type": "markdown",
   "id": "a1ff4a54-d03d-47c1-9bd4-6045e2baf506",
   "metadata": {},
   "source": [
    "# Qn 4"
   ]
  },
  {
   "cell_type": "markdown",
   "id": "22b35f43-daa2-4a1c-9793-e938c8cb8f69",
   "metadata": {},
   "source": [
    "\"\"\" a generator is a function that returns an iterator that produces a sequence of values when iterated over. Generators are useful when we want to produce a large sequence of values, but we don't want to store all of them in memory at once. Yield is a keyword used in generator.\"\"\""
   ]
  },
  {
   "cell_type": "code",
   "execution_count": 16,
   "id": "dcda4f94-42dd-4906-8f2d-29056bea0c4b",
   "metadata": {},
   "outputs": [],
   "source": [
    "def test4(n):\n",
    "    a,b=0,1\n",
    "    for i in range(n):\n",
    "            yield a\n",
    "            a,b=b,a+b\n",
    "            "
   ]
  },
  {
   "cell_type": "code",
   "execution_count": 20,
   "id": "1945eefa-355f-429a-9254-9bae4869c3fb",
   "metadata": {},
   "outputs": [
    {
     "name": "stdout",
     "output_type": "stream",
     "text": [
      "0\n",
      "1\n",
      "1\n",
      "2\n",
      "3\n",
      "5\n",
      "8\n",
      "13\n",
      "21\n",
      "34\n",
      "55\n",
      "89\n",
      "144\n",
      "233\n",
      "377\n"
     ]
    }
   ],
   "source": [
    "for i in test4(15):\n",
    "    print(i)"
   ]
  },
  {
   "cell_type": "markdown",
   "id": "3e2e9164-c741-4e35-99ac-43bfc0ab3030",
   "metadata": {},
   "source": [
    "# Qn 5"
   ]
  },
  {
   "cell_type": "code",
   "execution_count": 10,
   "id": "8f0a2ef6-f2bc-40f1-b9ab-a28902bedb99",
   "metadata": {},
   "outputs": [
    {
     "name": "stdout",
     "output_type": "stream",
     "text": [
      "2\n",
      "3\n",
      "5\n",
      "7\n",
      "11\n",
      "13\n",
      "17\n",
      "19\n",
      "23\n",
      "29\n",
      "31\n",
      "37\n",
      "41\n",
      "43\n",
      "47\n",
      "53\n",
      "59\n",
      "61\n",
      "67\n",
      "71\n",
      "73\n",
      "79\n",
      "83\n",
      "89\n",
      "97\n",
      "101\n",
      "103\n",
      "107\n",
      "109\n",
      "113\n",
      "127\n",
      "131\n",
      "137\n",
      "139\n",
      "149\n",
      "151\n",
      "157\n",
      "163\n",
      "167\n",
      "173\n",
      "179\n",
      "181\n",
      "191\n",
      "193\n",
      "197\n",
      "199\n",
      "211\n",
      "223\n",
      "227\n",
      "229\n",
      "233\n",
      "239\n",
      "241\n",
      "251\n",
      "257\n",
      "263\n",
      "269\n",
      "271\n",
      "277\n",
      "281\n",
      "283\n",
      "293\n",
      "307\n",
      "311\n",
      "313\n",
      "317\n",
      "331\n",
      "337\n",
      "347\n",
      "349\n",
      "353\n",
      "359\n",
      "367\n",
      "373\n",
      "379\n",
      "383\n",
      "389\n",
      "397\n",
      "401\n",
      "409\n",
      "419\n",
      "421\n",
      "431\n",
      "433\n",
      "439\n",
      "443\n",
      "449\n",
      "457\n",
      "461\n",
      "463\n",
      "467\n",
      "479\n",
      "487\n",
      "491\n",
      "499\n",
      "503\n",
      "509\n",
      "521\n",
      "523\n",
      "541\n",
      "547\n",
      "557\n",
      "563\n",
      "569\n",
      "571\n",
      "577\n",
      "587\n",
      "593\n",
      "599\n",
      "601\n",
      "607\n",
      "613\n",
      "617\n",
      "619\n",
      "631\n",
      "641\n",
      "643\n",
      "647\n",
      "653\n",
      "659\n",
      "661\n",
      "673\n",
      "677\n",
      "683\n",
      "691\n",
      "701\n",
      "709\n",
      "719\n",
      "727\n",
      "733\n",
      "739\n",
      "743\n",
      "751\n",
      "757\n",
      "761\n",
      "769\n",
      "773\n",
      "787\n",
      "797\n",
      "809\n",
      "811\n",
      "821\n",
      "823\n",
      "827\n",
      "829\n",
      "839\n",
      "853\n",
      "857\n",
      "859\n",
      "863\n",
      "877\n",
      "881\n",
      "883\n",
      "887\n",
      "907\n",
      "911\n",
      "919\n",
      "929\n",
      "937\n",
      "941\n",
      "947\n",
      "953\n",
      "967\n",
      "971\n",
      "977\n",
      "983\n",
      "991\n",
      "997\n"
     ]
    }
   ],
   "source": [
    "lower=2\n",
    "upper=1000\n",
    "for n in range(lower,upper+1):\n",
    "    if n>1:\n",
    "        for i in range(2,n):\n",
    "            if(n%i)==0:\n",
    "                break\n",
    "                a=iter(n)\n",
    "        else:\n",
    "                print(n)\n",
    "               "
   ]
  },
  {
   "cell_type": "code",
   "execution_count": null,
   "id": "325faf9b-9389-4121-afad-fe495ee6bf8e",
   "metadata": {},
   "outputs": [],
   "source": []
  }
 ],
 "metadata": {
  "kernelspec": {
   "display_name": "Python 3 (ipykernel)",
   "language": "python",
   "name": "python3"
  },
  "language_info": {
   "codemirror_mode": {
    "name": "ipython",
    "version": 3
   },
   "file_extension": ".py",
   "mimetype": "text/x-python",
   "name": "python",
   "nbconvert_exporter": "python",
   "pygments_lexer": "ipython3",
   "version": "3.10.8"
  }
 },
 "nbformat": 4,
 "nbformat_minor": 5
}
